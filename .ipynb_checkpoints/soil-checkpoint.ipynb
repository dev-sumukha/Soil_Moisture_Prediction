{
 "cells": [
  {
   "cell_type": "markdown",
   "metadata": {},
   "source": [
    "1. Reading the dataset\n",
    "2. EDA\n",
    "3. Preprocess the data\n",
    "4. Split into train and test\n",
    "5. Build the model\n",
    "6. Train the model\n",
    "7. test and evaluate model\n",
    "8. use the model for predicting future values"
   ]
  },
  {
   "cell_type": "code",
   "execution_count": 68,
   "metadata": {},
   "outputs": [],
   "source": [
    "# # Import necessary libraries\n",
    "# import pandas as pd\n",
    "# import numpy as np\n",
    "# from sklearn.model_selection import train_test_split\n",
    "# from sklearn.ensemble import RandomForestRegressor\n",
    "# from sklearn.metrics import mean_squared_error, r2_score\n",
    "# import matplotlib.pyplot as plt\n",
    "# from sklearn.preprocessing import OneHotEncoder\n",
    "# from datetime import datetime\n",
    "\n",
    "# # Load the dataset\n",
    "# data = pd.read_csv('soil-moisture FINAL.csv')\n",
    "\n",
    "# # Convert Month and Day to a datetime feature\n",
    "# data['Date'] = data['Month'] + ' ' + data['Day'].astype(str)\n",
    "# data['Date'] = pd.to_datetime(data['Date'] + ' 2023', format='%b %d %Y')\n",
    "\n",
    "# # Extract useful time-based features (Day of Year, Month)\n",
    "# data['Day_of_Year'] = data['Date'].dt.dayofyear\n",
    "# data['Month_Num'] = data['Date'].dt.month\n",
    "\n",
    "# # Drop the original Month, Day, and Date columns\n",
    "# data = data.drop(columns=['Month', 'Day', 'Date'])\n",
    "\n",
    "# # One-hot encode the month\n",
    "# encoder = OneHotEncoder(sparse_output=False)\n",
    "# month_encoded = encoder.fit_transform(data[['Month_Num']])\n",
    "# month_encoded_df = pd.DataFrame(month_encoded, columns=encoder.get_feature_names_out(['Month_Num']))\n",
    "\n",
    "# # Add the one-hot encoded month data back to the main DataFrame and drop Month_Num\n",
    "# data = pd.concat([data, month_encoded_df], axis=1)\n",
    "# data = data.drop(columns=['Month_Num'])\n",
    "\n",
    "# # Define the features (X) and target (y)\n",
    "# X = data.drop(columns=['avg_sm'])  # All columns except soil moisture (avg_sm)\n",
    "# y = data['avg_sm']\n",
    "\n",
    "# # Split the data into training and testing sets (80% train, 20% test)\n",
    "# X_train, X_test, y_train, y_test = train_test_split(X, y, test_size=0.2, random_state=42)\n",
    "\n",
    "# # Train a Random Forest Regressor\n",
    "# model = RandomForestRegressor(n_estimators=100, random_state=42)\n",
    "# model.fit(X_train, y_train)\n",
    "\n",
    "# # Predict on the test set\n",
    "# y_pred = model.predict(X_test)\n",
    "\n",
    "# # Calculate performance metrics\n",
    "# mse = mean_squared_error(y_test, y_pred)\n",
    "# r2 = r2_score(y_test, y_pred)\n",
    "\n",
    "# print(f\"Mean Squared Error: {mse}\")\n",
    "# print(f\"R-Squared: {r2}\")\n",
    "\n",
    "# # Feature Importance\n",
    "# importances = model.feature_importances_\n",
    "# feature_names = X.columns\n",
    "# sorted_indices = np.argsort(importances)[::-1]\n",
    "\n",
    "# plt.figure(figsize=(10, 6))\n",
    "# plt.title('Feature Importance (Environmental Factors)')\n",
    "# plt.bar(range(X.shape[1]), importances[sorted_indices], align='center')\n",
    "# plt.xticks(range(X.shape[1]), feature_names[sorted_indices], rotation=90)\n",
    "# plt.tight_layout()\n",
    "# plt.show()\n",
    "\n",
    "# # Visualize predicted vs actual soil moisture\n",
    "# plt.figure(figsize=(10, 6))\n",
    "# plt.scatter(y_test, y_pred, alpha=0.7)\n",
    "# plt.plot([y_test.min(), y_test.max()], [y_test.min(), y_test.max()], color='red')\n",
    "# plt.xlabel('Actual Soil Moisture')\n",
    "# plt.ylabel('Predicted Soil Moisture')\n",
    "# plt.title('Actual vs Predicted Soil Moisture')\n",
    "# plt.show()\n",
    "\n",
    "# # Predict future soil moisture based on environmental conditions\n",
    "# def predict_future_sm(temperature, humidity, pressure, luminosity, day_of_year, encoder, model, pm1=3, pm2=6, pm3=100):\n",
    "#     future_data = np.array([[pm1, pm2, pm3, 0, luminosity, temperature, humidity, pressure, day_of_year]])\n",
    "    \n",
    "#     # One-hot encode the month (assuming you have the month from the day_of_year)\n",
    "#     month_num = (datetime(2023, 1, 1) + pd.Timedelta(days=day_of_year-1)).month\n",
    "#     month_encoded = encoder.transform([[month_num]])\n",
    "    \n",
    "#     # Concatenate the original features with the one-hot encoded month\n",
    "#     future_data = np.concatenate([future_data, month_encoded], axis=1)\n",
    "    \n",
    "#     # Ensure that the input features align with the training data's feature columns\n",
    "#     feature_names_for_prediction = list(X.columns)\n",
    "    \n",
    "#     # Create a DataFrame from the future_data using the feature names from training\n",
    "#     future_df = pd.DataFrame(future_data, columns=feature_names_for_prediction)\n",
    "    \n",
    "#     # Predict using the trained model\n",
    "#     prediction = model.predict(future_df)\n",
    "    \n",
    "#     return prediction[0]\n",
    "\n",
    "# # Example usage: Predict future soil moisture\n",
    "# temperature = 24.5\n",
    "# humidity = 85\n",
    "# pressure = 93000\n",
    "# luminosity = 3000\n",
    "# day_of_year = 250  # For example, September 7th is day 250\n",
    "\n",
    "# predicted_sm = predict_future_sm(temperature, humidity, pressure, luminosity, day_of_year, encoder, model)\n",
    "# print(f\"Predicted Soil Moisture: {predicted_sm}\")"
   ]
  },
  {
   "cell_type": "code",
   "execution_count": 69,
   "metadata": {},
   "outputs": [],
   "source": [
    "import pandas as pd\n",
    "\n",
    "data = pd.read_csv('soil-moisture FINAL.csv')"
   ]
  },
  {
   "cell_type": "code",
   "execution_count": 70,
   "metadata": {},
   "outputs": [
    {
     "name": "stdout",
     "output_type": "stream",
     "text": [
      "<class 'pandas.core.frame.DataFrame'>\n",
      "RangeIndex: 224 entries, 0 to 223\n",
      "Data columns (total 11 columns):\n",
      " #   Column    Non-Null Count  Dtype  \n",
      "---  ------    --------------  -----  \n",
      " 0   Month     224 non-null    object \n",
      " 1   Day       224 non-null    int64  \n",
      " 2   avg_pm1   224 non-null    float64\n",
      " 3   avg_pm2   224 non-null    float64\n",
      " 4   avg_pm3   224 non-null    float64\n",
      " 5   avg_am    224 non-null    float64\n",
      " 6   avg_lum   224 non-null    float64\n",
      " 7   avg_temp  224 non-null    float64\n",
      " 8   avg_humd  224 non-null    float64\n",
      " 9   avg_pres  224 non-null    float64\n",
      " 10  avg_sm    224 non-null    float64\n",
      "dtypes: float64(9), int64(1), object(1)\n",
      "memory usage: 19.4+ KB\n"
     ]
    },
    {
     "data": {
      "image/png": "[encoded data removed]",
      "text/plain": [
       "<Figure size 640x480 with 1 Axes>"
      ]
     },
     "metadata": {},
     "output_type": "display_data"
    }
   ],
   "source": [
    "import matplotlib.pyplot as plt\n",
    "\n",
    "data.describe()\n",
    "data.info()\n",
    "plt.hist(data['avg_sm'], bins=30)\n",
    "plt.title('Distribution of Average Soil Moisture')\n",
    "plt.xlabel('Average Soil Moisture')\n",
    "plt.ylabel('Frequency')\n",
    "plt.show()"
   ]
  },
  {
   "cell_type": "code",
   "execution_count": 71,
   "metadata": {},
   "outputs": [
    {
     "name": "stdout",
     "output_type": "stream",
     "text": [
      "Columns in the DataFrame: Index(['Month', 'Day', 'avg_pm1', 'avg_pm2', 'avg_pm3', 'avg_am', 'avg_lum',\n",
      "       'avg_temp', 'avg_humd', 'avg_pres', 'avg_sm'],\n",
      "      dtype='object')\n"
     ]
    }
   ],
   "source": [
    "import numpy as np\n",
    "import pandas as pd\n",
    "from sklearn.preprocessing import OneHotEncoder\n",
    "\n",
    "# Load the dataset (ensure your CSV file path is correct)\n",
    "data = pd.read_csv('soil-moisture FINAL.csv')\n",
    "\n",
    "# Check the columns in the DataFrame\n",
    "print(\"Columns in the DataFrame:\", data.columns)\n",
    "\n",
    "# Ensure 'Month' and 'Day' columns exist\n",
    "if 'Month' in data.columns and 'Day' in data.columns:\n",
    "    data['Date'] = data['Month'] + ' ' + data['Day'].astype(str)\n",
    "    data['Date'] = pd.to_datetime(data['Date'] + ' 2023', format='%b %d %Y')\n",
    "    data['Day_of_Year'] = data['Date'].dt.dayofyear\n",
    "    data['Month_Num'] = data['Date'].dt.month\n",
    "    data = data.drop(columns=['Month', 'Day', 'Date'])\n",
    "\n",
    "    encoder = OneHotEncoder(sparse_output=False)\n",
    "    month_encoded = encoder.fit_transform(data[['Month_Num']])\n",
    "    month_encoded_df = pd.DataFrame(month_encoded, columns=encoder.get_feature_names_out(['Month_Num']), index=data.index)\n",
    "    data = pd.concat([data, month_encoded_df], axis=1)\n",
    "    data = data.drop(columns=['Month_Num'])\n",
    "\n",
    "    X = data.drop(columns=['avg_sm'])\n",
    "    y = data['avg_sm']\n",
    "else:\n",
    "    print(\"Error: 'Month' or 'Day' columns are missing from the DataFrame.\")"
   ]
  },
  {
   "cell_type": "code",
   "execution_count": 72,
   "metadata": {},
   "outputs": [],
   "source": [
    "from sklearn.model_selection import train_test_split\n",
    "\n",
    "X_train, X_test, y_train, y_test = train_test_split(X, y, test_size=0.2, random_state=42)"
   ]
  },
  {
   "cell_type": "code",
   "execution_count": 73,
   "metadata": {},
   "outputs": [],
   "source": [
    "from sklearn.ensemble import RandomForestRegressor\n",
    "from sklearn.linear_model import LinearRegression\n",
    "from sklearn.svm import SVR\n",
    "\n",
    "rf_model = RandomForestRegressor(n_estimators=100, random_state=42)\n",
    "lr_model = LinearRegression()\n",
    "svr_model = SVR()\n",
    "\n",
    "models = {'Random Forest': rf_model, 'Linear Regression': lr_model, 'Support Vector Regression': svr_model}"
   ]
  },
  {
   "cell_type": "code",
   "execution_count": 74,
   "metadata": {},
   "outputs": [],
   "source": [
    "for name, model in models.items():\n",
    "    model.fit(X_train, y_train)"
   ]
  },
  {
   "cell_type": "code",
   "execution_count": 75,
   "metadata": {},
   "outputs": [
    {
     "name": "stdout",
     "output_type": "stream",
     "text": [
      "Model: Random Forest\n",
      "Mean Squared Error: 116891.2580\n",
      "Accuracy: 98.63%\n",
      "---\n",
      "Model: Linear Regression\n",
      "Mean Squared Error: 526552.8717\n",
      "Accuracy: 93.81%\n",
      "---\n",
      "Model: Support Vector Regression\n",
      "Mean Squared Error: 12585981.0502\n",
      "Accuracy: -47.84%\n",
      "---\n",
      "Highest Accuracy Model: Random Forest with Accuracy: 98.63%\n"
     ]
    },
    {
     "data": {
      "image/png": "[encoded data removed]",
      "text/plain": [
       "<Figure size 800x400 with 1 Axes>"
      ]
     },
     "metadata": {},
     "output_type": "display_data"
    }
   ],
   "source": [
    "from sklearn.metrics import mean_squared_error, r2_score\n",
    "import seaborn as sns\n",
    "import matplotlib.pyplot as plt\n",
    "import pandas as pd\n",
    "\n",
    "# Initialize an empty dictionary to store the results\n",
    "results = {}\n",
    "\n",
    "# Loop through each model and calculate performance metrics\n",
    "for name, model in models.items():\n",
    "    y_pred = model.predict(X_test)\n",
    "    mse = mean_squared_error(y_test, y_pred)\n",
    "    r2 = r2_score(y_test, y_pred)\n",
    "    accuracy = r2 * 100  # Convert R² score to percentage accuracy\n",
    "    results[name] = {'MSE': mse, 'R2': r2, 'Accuracy (%)': accuracy}\n",
    "\n",
    "# Print the results separately for each model in understandable terms\n",
    "for model_name, metrics in results.items():\n",
    "    print(f\"Model: {model_name}\")\n",
    "    print(f\"Mean Squared Error: {metrics['MSE']:.4f}\")\n",
    "    print(f\"Accuracy: {metrics['Accuracy (%)']:.2f}%\")\n",
    "    print('---')\n",
    "\n",
    "# Find the model with the highest accuracy\n",
    "best_model_name = max(results, key=lambda k: results[k]['Accuracy (%)'])\n",
    "print(f\"Highest Accuracy Model: {best_model_name} with Accuracy: {results[best_model_name]['Accuracy (%)']:.2f}%\")\n",
    "\n",
    "# Prepare the data for plotting\n",
    "model_names = list(results.keys())\n",
    "accuracy_values = [results[name]['Accuracy (%)'] for name in model_names]\n",
    "\n",
    "# Create a DataFrame for visualization\n",
    "accuracy_df = pd.DataFrame({\n",
    "    'Model': model_names,\n",
    "    'Accuracy (%)': accuracy_values\n",
    "})\n",
    "\n",
    "# Plot the comparison of Accuracy across all models\n",
    "plt.figure(figsize=(8, 4))\n",
    "sns.barplot(data=accuracy_df, x='Model', y='Accuracy (%)', hue='Model', dodge=False, legend=False, palette='muted')\n",
    "plt.title('Model Accuracy Comparison')\n",
    "plt.ylabel('Accuracy (%)')\n",
    "plt.tight_layout()\n",
    "plt.show()"
   ]
  },
  {
   "cell_type": "code",
   "execution_count": 80,
   "metadata": {},
   "outputs": [
    {
     "name": "stdout",
     "output_type": "stream",
     "text": [
      "Predicted Soil Moisture: 6667.02\n",
      "The predicted soil moisture level is categorized as: Better.\n"
     ]
    },
    {
     "name": "stderr",
     "output_type": "stream",
     "text": [
      "/opt/anaconda3/lib/python3.12/site-packages/sklearn/base.py:493: UserWarning: X does not have valid feature names, but OneHotEncoder was fitted with feature names\n",
      "  warnings.warn(\n"
     ]
    }
   ],
   "source": [
    "from datetime import datetime\n",
    "import numpy as np\n",
    "import pandas as pd\n",
    "from sklearn.exceptions import NotFittedError\n",
    "\n",
    "# Set the best model as Random Forest\n",
    "best_model = models['Random Forest']\n",
    "\n",
    "def predict_future_sm(temperature, humidity, pressure, luminosity, day_of_year, encoder, model):\n",
    "    try:\n",
    "        # Prepare the input data for prediction\n",
    "        future_data = np.array([[3, 6, 100, 0, luminosity, temperature, humidity, pressure, day_of_year]])\n",
    "        month_num = (datetime(2023, 1, 1) + pd.Timedelta(days=day_of_year-1)).month\n",
    "        \n",
    "        # OneHotEncode the month number, handle unknown categories\n",
    "        month_encoded = encoder.transform([[month_num]])\n",
    "        \n",
    "        # Concatenate encoded month data\n",
    "        future_data = np.concatenate([future_data, month_encoded], axis=1)\n",
    "        feature_names = list(X.columns)\n",
    "        future_df = pd.DataFrame(future_data, columns=feature_names)\n",
    "\n",
    "        # Predict the soil moisture\n",
    "        prediction = model.predict(future_df)\n",
    "        return prediction[0]\n",
    "    \n",
    "    except ValueError as e:\n",
    "        print(f\"Error: {e}. Please provide correct input values.\")\n",
    "        return None\n",
    "\n",
    "def categorize_prediction(predicted_value):\n",
    "    if predicted_value is None:\n",
    "        return \"No prediction available\"\n",
    "    \n",
    "    if predicted_value >= 7000:\n",
    "        return \"Best\"\n",
    "    elif 5000 <= predicted_value < 7000:\n",
    "        return \"Better\"\n",
    "    else:\n",
    "        return \"Worst\"\n",
    "\n",
    "# Take user inputs for the values\n",
    "try:\n",
    "    temperature = float(input(\"Enter temperature (°C): \"))\n",
    "    humidity = float(input(\"Enter humidity (%): \"))\n",
    "    pressure = float(input(\"Enter pressure (Pa): \"))\n",
    "    luminosity = float(input(\"Enter luminosity: \"))\n",
    "    day_of_year = int(input(\"Enter day of the year (1-365): \"))\n",
    "\n",
    "    # Check if day_of_year is within a valid range\n",
    "    if not (1 <= day_of_year <= 365):\n",
    "        raise ValueError(\"Day of the year must be between 1 and 365.\")\n",
    "    \n",
    "    # Predict soil moisture using the best model\n",
    "    predicted_sm = predict_future_sm(temperature, humidity, pressure, luminosity, day_of_year, encoder, best_model)\n",
    "    category = categorize_prediction(predicted_sm)\n",
    "\n",
    "    # Display prediction and category\n",
    "    if predicted_sm is not None:\n",
    "        print(f\"Predicted Soil Moisture: {predicted_sm:.2f}\")\n",
    "    print(f\"The predicted soil moisture level is categorized as: {category}.\")\n",
    "    \n",
    "except ValueError as ve:\n",
    "    print(f\"Input Error: {ve}. Please enter valid numerical values\")"
   ]
  },
  {
   "cell_type": "code",
   "execution_count": 77,
   "metadata": {},
   "outputs": [],
   "source": [
    "# Temperature (°C): -10 to 50\n",
    "# Humidity (%): 0 to 100\n",
    "# Pressure (Pa): 85000 to 105000\n",
    "# Luminosity (lux): 0 to 100000\n",
    "# Day of the Year: 1 to 365"
   ]
  }
 ],
 "metadata": {
  "kernelspec": {
   "display_name": "base",
   "language": "python",
   "name": "python3"
  },
  "language_info": {
   "codemirror_mode": {
    "name": "ipython",
    "version": 3
   },
   "file_extension": ".py",
   "mimetype": "text/x-python",
   "name": "python",
   "nbconvert_exporter": "python",
   "pygments_lexer": "ipython3",
   "version": "3.12.4"
  }
 },
 "nbformat": 4,
 "nbformat_minor": 2
}
